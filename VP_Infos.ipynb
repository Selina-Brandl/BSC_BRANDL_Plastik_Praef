{
  "cells": [
    {
      "metadata": {
        "trusted": true
      },
      "cell_type": "code",
      "source": "library(plyr)\n\n#lade csv file als data.frame rawData\nrawData = read.csv(\"VP_Infos.csv\", header = TRUE, stringsAsFactors = FALSE)\nprint(rawData)",
      "execution_count": 3,
      "outputs": [
        {
          "output_type": "stream",
          "text": "   Geschlecht Alter Händigkeit Äugigkeit                  Visus\n1           w    28     rechts    rechts                 normal\n2           w    22      links    rechts                 normal\n3           w    21     beides     links                 normal\n4           w    55     rechts     beide                 normal\n5           w    21     rechts     links                 normal\n6           w    21     rechts     links                 normal\n7           w    22     rechts     links                 normal\n8           w    22     rechts    rechts                 normal\n9           w    25      links     links                 normal\n10          w    25     beides     beide                 normal\n11          w    47     rechts    rechts                 normal\n12          w    26     rechts     links                 normal\n13          w    26     rechts    rechts                 normal\n14          w    43     rechts    rechts                 normal\n15          w    23     rechts    rechts                 normal\n16          w    22     rechts     links                 normal\n17          w    22     rechts    rechts                 normal\n18          w    19     rechts     links                 normal\n19          w    23     rechts    rechts                 normal\n20          w    19      links     links                 normal\n21          w    25     rechts     links                 normal\n22          w    19     rechts     links                 normal\n23          w    22     rechts     links                 normal\n24          w    19      links    rechts                 normal\n25          w    23     rechts    rechts                 normal\n26          w    19     rechts     links                 normal\n27          w    23     rechts     links                 normal\n28          w    21     rechts     links                 normal\n29          w    22     rechts    rechts                 normal\n30          w    22     rechts    rechts                 normal\n31          m    22     rechts    rechts                 normal\n32          m    27      links    rechts                 normal\n33          m    23     rechts    rechts                 normal\n34          m    19     beides     links                 normal\n35          m    22     rechts    rechts                 normal\n36          m    21     rechts     links                 normal\n37          m    23      links    rechts                 normal\n38          m    26     rechts    rechts                 normal\n39          m    19     rechts    rechts                 normal\n40          m    24     rechts     links                 normal\n41          m    23     rechts     links                 normal\n42          w    21     rechts    rechts                 normal\n43          w    21     rechts     links                 normal\n44          w    20     rechts    rechts                 normal\n45          w    24     rechts    rechts                 normal\n46          m    22     rechts     links Normal, rot-grün-blind\n47          w    26     rechts    rechts                 normal\n48          m    22     rechts     links                 normal\n            Abschluss               Beruf      Finanzen\n1    abgesch. Studium             Student       500-999\n2              Abitur             Student       500-999\n3              Abitur             Student       500-999\n4              Abitur             Student 2000 und mehr\n5              Abitur             Student         0-499\n6              Abitur             Student         0-499\n7              Abitur             Student         0-499\n8              Abitur             Student       500-999\n9              Abitur   nicht berufstätig       500-999\n10             Abitur             Student         0-499\n11 realschulabschluss            Werkerin     1000-1900\n12             Abitur             Student       500-999\n13 realschulabschluss        Mechanikerin 2000 und mehr\n14 realschulabschluss        Bürokauffrau     1000-1900\n15             Abitur             Student         0-499\n16   abgesch. Studium             Student       500-999\n17             Abitur             Student         0-499\n18             Abitur             Student       500-999\n19   abgesch. Studium             Student         0-499\n20             Abitur             Student         0-499\n21             Abitur             Student       500-999\n22             Abitur             Student         0-499\n23             Abitur             Student         0-499\n24             Abitur             Student       500-999\n25             Abitur             Student         0-499\n26             Abitur             Student       500-999\n27             Abitur             Student       500-999\n28             Abitur             Student       500-999\n29   abgesch. Studium             Student     1000-1900\n30             Abitur             Student         0-499\n31             Abitur             Student       500-999\n32   abgesch. Studium  Softwareentwickler 2000 und mehr\n33             Abitur             Optiker     1000-1900\n34             Abitur             Student         0-499\n35   abgesch. Studium             Student       500-999\n36             Abitur             Student     1000-1900\n37             Abitur             Student       500-999\n38   abgesch. Studium             Student       500-999\n39             Abitur             Student       500-999\n40             Abitur Fluggerätmechaniker     1000-1900\n41             Abitur             Student     1000-1900\n42             Abitur             Student       500-999\n43             Abitur             Student         0-499\n44             Abitur             Student         0-499\n45   abgesch. Studium             Student       500-999\n46             Abitur             Student       500-999\n47 realschulabschluss    Krankenpflegerin 2000 und mehr\n48             Abitur             Student       500-999\n                       Familienstand\n1  verheiratet mit Ehepartner lebend\n2                              ledig\n3                              ledig\n4  verheiratet mit Ehepartner lebend\n5                              ledig\n6                              ledig\n7                              ledig\n8                              ledig\n9                              ledig\n10                             ledig\n11                             ledig\n12                             ledig\n13                             ledig\n14                             ledig\n15                             ledig\n16                             ledig\n17                             ledig\n18                             ledig\n19                             ledig\n20                             ledig\n21                             ledig\n22                             ledig\n23                             ledig\n24                             ledig\n25                             ledig\n26                             ledig\n27                             ledig\n28                             ledig\n29                             ledig\n30                             ledig\n31                             ledig\n32                             ledig\n33                             ledig\n34                             ledig\n35                             ledig\n36                             ledig\n37                             ledig\n38                             ledig\n39                             ledig\n40                             ledig\n41                             ledig\n42                             ledig\n43                             ledig\n44                             ledig\n45                             ledig\n46                             ledig\n47                             ledig\n48                             ledig\n",
          "name": "stdout"
        }
      ]
    },
    {
      "metadata": {
        "trusted": true
      },
      "cell_type": "code",
      "source": "#Anzahl Geschlecht\ncount(rawData$Geschlecht)",
      "execution_count": 4,
      "outputs": [
        {
          "output_type": "display_data",
          "data": {
            "text/plain": "  x freq\n1 m 13  \n2 w 35  ",
            "text/latex": "A data.frame: 2 x 2\n\\begin{tabular}{r|ll}\n x & freq\\\\\n <fct> & <int>\\\\\n\\hline\n\t m & 13\\\\\n\t w & 35\\\\\n\\end{tabular}\n",
            "text/markdown": "\nA data.frame: 2 x 2\n\n| x &lt;fct&gt; | freq &lt;int&gt; |\n|---|---|\n| m | 13 |\n| w | 35 |\n\n",
            "text/html": "<table>\n<caption>A data.frame: 2 x 2</caption>\n<thead>\n\t<tr><th scope=col>x</th><th scope=col>freq</th></tr>\n\t<tr><th scope=col>&lt;fct&gt;</th><th scope=col>&lt;int&gt;</th></tr>\n</thead>\n<tbody>\n\t<tr><td>m</td><td>13</td></tr>\n\t<tr><td>w</td><td>35</td></tr>\n</tbody>\n</table>\n"
          },
          "metadata": {}
        }
      ]
    },
    {
      "metadata": {
        "trusted": true
      },
      "cell_type": "code",
      "source": "#Durchschnitt + Anzahl Alter\nmean(rawData$Alter)\nsd(rawData$Alter)\ncount(rawData$Alter)",
      "execution_count": 5,
      "outputs": [
        {
          "output_type": "display_data",
          "data": {
            "text/plain": "[1] 24",
            "text/latex": "24",
            "text/markdown": "24",
            "text/html": "24"
          },
          "metadata": {}
        },
        {
          "output_type": "display_data",
          "data": {
            "text/plain": "[1] 6.847891",
            "text/latex": "6.84789142884703",
            "text/markdown": "6.84789142884703",
            "text/html": "6.84789142884703"
          },
          "metadata": {}
        },
        {
          "output_type": "display_data",
          "data": {
            "text/plain": "   x  freq\n1  19  7  \n2  20  1  \n3  21  7  \n4  22 12  \n5  23  7  \n6  24  2  \n7  25  3  \n8  26  4  \n9  27  1  \n10 28  1  \n11 43  1  \n12 47  1  \n13 55  1  ",
            "text/latex": "A data.frame: 13 x 2\n\\begin{tabular}{r|ll}\n x & freq\\\\\n <int> & <int>\\\\\n\\hline\n\t 19 &  7\\\\\n\t 20 &  1\\\\\n\t 21 &  7\\\\\n\t 22 & 12\\\\\n\t 23 &  7\\\\\n\t 24 &  2\\\\\n\t 25 &  3\\\\\n\t 26 &  4\\\\\n\t 27 &  1\\\\\n\t 28 &  1\\\\\n\t 43 &  1\\\\\n\t 47 &  1\\\\\n\t 55 &  1\\\\\n\\end{tabular}\n",
            "text/markdown": "\nA data.frame: 13 x 2\n\n| x &lt;int&gt; | freq &lt;int&gt; |\n|---|---|\n| 19 |  7 |\n| 20 |  1 |\n| 21 |  7 |\n| 22 | 12 |\n| 23 |  7 |\n| 24 |  2 |\n| 25 |  3 |\n| 26 |  4 |\n| 27 |  1 |\n| 28 |  1 |\n| 43 |  1 |\n| 47 |  1 |\n| 55 |  1 |\n\n",
            "text/html": "<table>\n<caption>A data.frame: 13 x 2</caption>\n<thead>\n\t<tr><th scope=col>x</th><th scope=col>freq</th></tr>\n\t<tr><th scope=col>&lt;int&gt;</th><th scope=col>&lt;int&gt;</th></tr>\n</thead>\n<tbody>\n\t<tr><td>19</td><td> 7</td></tr>\n\t<tr><td>20</td><td> 1</td></tr>\n\t<tr><td>21</td><td> 7</td></tr>\n\t<tr><td>22</td><td>12</td></tr>\n\t<tr><td>23</td><td> 7</td></tr>\n\t<tr><td>24</td><td> 2</td></tr>\n\t<tr><td>25</td><td> 3</td></tr>\n\t<tr><td>26</td><td> 4</td></tr>\n\t<tr><td>27</td><td> 1</td></tr>\n\t<tr><td>28</td><td> 1</td></tr>\n\t<tr><td>43</td><td> 1</td></tr>\n\t<tr><td>47</td><td> 1</td></tr>\n\t<tr><td>55</td><td> 1</td></tr>\n</tbody>\n</table>\n"
          },
          "metadata": {}
        }
      ]
    },
    {
      "metadata": {
        "trusted": true
      },
      "cell_type": "code",
      "source": "#Anzahl Händigkeit\ncount(rawData$Händigkeit)",
      "execution_count": 6,
      "outputs": [
        {
          "output_type": "display_data",
          "data": {
            "text/plain": "  x      freq\n1 beides  3  \n2 links   6  \n3 rechts 39  ",
            "text/latex": "A data.frame: 3 x 2\n\\begin{tabular}{r|ll}\n x & freq\\\\\n <fct> & <int>\\\\\n\\hline\n\t beides &  3\\\\\n\t links  &  6\\\\\n\t rechts & 39\\\\\n\\end{tabular}\n",
            "text/markdown": "\nA data.frame: 3 x 2\n\n| x &lt;fct&gt; | freq &lt;int&gt; |\n|---|---|\n| beides |  3 |\n| links  |  6 |\n| rechts | 39 |\n\n",
            "text/html": "<table>\n<caption>A data.frame: 3 x 2</caption>\n<thead>\n\t<tr><th scope=col>x</th><th scope=col>freq</th></tr>\n\t<tr><th scope=col>&lt;fct&gt;</th><th scope=col>&lt;int&gt;</th></tr>\n</thead>\n<tbody>\n\t<tr><td>beides</td><td> 3</td></tr>\n\t<tr><td>links </td><td> 6</td></tr>\n\t<tr><td>rechts</td><td>39</td></tr>\n</tbody>\n</table>\n"
          },
          "metadata": {}
        }
      ]
    },
    {
      "metadata": {
        "trusted": true
      },
      "cell_type": "code",
      "source": "#Anzahl Äugigkeit\ncount(rawData$Äugigkeit)",
      "execution_count": 7,
      "outputs": [
        {
          "output_type": "display_data",
          "data": {
            "text/plain": "  x      freq\n1 beide   2  \n2 links  22  \n3 rechts 24  ",
            "text/latex": "A data.frame: 3 x 2\n\\begin{tabular}{r|ll}\n x & freq\\\\\n <fct> & <int>\\\\\n\\hline\n\t beide  &  2\\\\\n\t links  & 22\\\\\n\t rechts & 24\\\\\n\\end{tabular}\n",
            "text/markdown": "\nA data.frame: 3 x 2\n\n| x &lt;fct&gt; | freq &lt;int&gt; |\n|---|---|\n| beide  |  2 |\n| links  | 22 |\n| rechts | 24 |\n\n",
            "text/html": "<table>\n<caption>A data.frame: 3 x 2</caption>\n<thead>\n\t<tr><th scope=col>x</th><th scope=col>freq</th></tr>\n\t<tr><th scope=col>&lt;fct&gt;</th><th scope=col>&lt;int&gt;</th></tr>\n</thead>\n<tbody>\n\t<tr><td>beide </td><td> 2</td></tr>\n\t<tr><td>links </td><td>22</td></tr>\n\t<tr><td>rechts</td><td>24</td></tr>\n</tbody>\n</table>\n"
          },
          "metadata": {}
        }
      ]
    },
    {
      "metadata": {
        "trusted": true
      },
      "cell_type": "code",
      "source": "#Anzahl Visus\ncount(rawData$Visus)",
      "execution_count": 8,
      "outputs": [
        {
          "output_type": "display_data",
          "data": {
            "text/plain": "  x                      freq\n1 normal                 47  \n2 Normal, rot-grün-blind  1  ",
            "text/latex": "A data.frame: 2 x 2\n\\begin{tabular}{r|ll}\n x & freq\\\\\n <fct> & <int>\\\\\n\\hline\n\t normal                 & 47\\\\\n\t Normal, rot-grün-blind &  1\\\\\n\\end{tabular}\n",
            "text/markdown": "\nA data.frame: 2 x 2\n\n| x &lt;fct&gt; | freq &lt;int&gt; |\n|---|---|\n| normal                 | 47 |\n| Normal, rot-grün-blind |  1 |\n\n",
            "text/html": "<table>\n<caption>A data.frame: 2 x 2</caption>\n<thead>\n\t<tr><th scope=col>x</th><th scope=col>freq</th></tr>\n\t<tr><th scope=col>&lt;fct&gt;</th><th scope=col>&lt;int&gt;</th></tr>\n</thead>\n<tbody>\n\t<tr><td>normal                </td><td>47</td></tr>\n\t<tr><td>Normal, rot-grün-blind</td><td> 1</td></tr>\n</tbody>\n</table>\n"
          },
          "metadata": {}
        }
      ]
    },
    {
      "metadata": {
        "trusted": true
      },
      "cell_type": "code",
      "source": "#Anzahl Abschluss\ncount(rawData$Abschluss)",
      "execution_count": 9,
      "outputs": [
        {
          "output_type": "display_data",
          "data": {
            "text/plain": "  x                  freq\n1 abgesch. Studium    8  \n2 Abitur             36  \n3 realschulabschluss  4  ",
            "text/latex": "A data.frame: 3 x 2\n\\begin{tabular}{r|ll}\n x & freq\\\\\n <fct> & <int>\\\\\n\\hline\n\t abgesch. Studium   &  8\\\\\n\t Abitur             & 36\\\\\n\t realschulabschluss &  4\\\\\n\\end{tabular}\n",
            "text/markdown": "\nA data.frame: 3 x 2\n\n| x &lt;fct&gt; | freq &lt;int&gt; |\n|---|---|\n| abgesch. Studium   |  8 |\n| Abitur             | 36 |\n| realschulabschluss |  4 |\n\n",
            "text/html": "<table>\n<caption>A data.frame: 3 x 2</caption>\n<thead>\n\t<tr><th scope=col>x</th><th scope=col>freq</th></tr>\n\t<tr><th scope=col>&lt;fct&gt;</th><th scope=col>&lt;int&gt;</th></tr>\n</thead>\n<tbody>\n\t<tr><td>abgesch. Studium  </td><td> 8</td></tr>\n\t<tr><td>Abitur            </td><td>36</td></tr>\n\t<tr><td>realschulabschluss</td><td> 4</td></tr>\n</tbody>\n</table>\n"
          },
          "metadata": {}
        }
      ]
    },
    {
      "metadata": {
        "trusted": true
      },
      "cell_type": "code",
      "source": "#Anzahl Beruf\ncount(rawData$Beruf)",
      "execution_count": 10,
      "outputs": [
        {
          "output_type": "display_data",
          "data": {
            "text/plain": "  x                   freq\n1 Bürokauffrau         1  \n2 Fluggerätmechaniker  1  \n3 Krankenpflegerin     1  \n4 Mechanikerin         1  \n5 nicht berufstätig    1  \n6 Optiker              1  \n7 Softwareentwickler   1  \n8 Student             40  \n9 Werkerin             1  ",
            "text/latex": "A data.frame: 9 x 2\n\\begin{tabular}{r|ll}\n x & freq\\\\\n <fct> & <int>\\\\\n\\hline\n\t Bürokauffrau        &  1\\\\\n\t Fluggerätmechaniker &  1\\\\\n\t Krankenpflegerin    &  1\\\\\n\t Mechanikerin        &  1\\\\\n\t nicht berufstätig   &  1\\\\\n\t Optiker             &  1\\\\\n\t Softwareentwickler  &  1\\\\\n\t Student             & 40\\\\\n\t Werkerin            &  1\\\\\n\\end{tabular}\n",
            "text/markdown": "\nA data.frame: 9 x 2\n\n| x &lt;fct&gt; | freq &lt;int&gt; |\n|---|---|\n| Bürokauffrau        |  1 |\n| Fluggerätmechaniker |  1 |\n| Krankenpflegerin    |  1 |\n| Mechanikerin        |  1 |\n| nicht berufstätig   |  1 |\n| Optiker             |  1 |\n| Softwareentwickler  |  1 |\n| Student             | 40 |\n| Werkerin            |  1 |\n\n",
            "text/html": "<table>\n<caption>A data.frame: 9 x 2</caption>\n<thead>\n\t<tr><th scope=col>x</th><th scope=col>freq</th></tr>\n\t<tr><th scope=col>&lt;fct&gt;</th><th scope=col>&lt;int&gt;</th></tr>\n</thead>\n<tbody>\n\t<tr><td>Bürokauffrau       </td><td> 1</td></tr>\n\t<tr><td>Fluggerätmechaniker</td><td> 1</td></tr>\n\t<tr><td>Krankenpflegerin   </td><td> 1</td></tr>\n\t<tr><td>Mechanikerin       </td><td> 1</td></tr>\n\t<tr><td>nicht berufstätig  </td><td> 1</td></tr>\n\t<tr><td>Optiker            </td><td> 1</td></tr>\n\t<tr><td>Softwareentwickler </td><td> 1</td></tr>\n\t<tr><td>Student            </td><td>40</td></tr>\n\t<tr><td>Werkerin           </td><td> 1</td></tr>\n</tbody>\n</table>\n"
          },
          "metadata": {}
        }
      ]
    },
    {
      "metadata": {
        "trusted": true
      },
      "cell_type": "code",
      "source": "#Anzahl Finanzen\ncount(rawData$Finanzen)",
      "execution_count": 11,
      "outputs": [
        {
          "output_type": "display_data",
          "data": {
            "text/plain": "  x             freq\n1 0-499         15  \n2 1000-1900      7  \n3 2000 und mehr  4  \n4 500-999       22  ",
            "text/latex": "A data.frame: 4 x 2\n\\begin{tabular}{r|ll}\n x & freq\\\\\n <fct> & <int>\\\\\n\\hline\n\t 0-499         & 15\\\\\n\t 1000-1900     &  7\\\\\n\t 2000 und mehr &  4\\\\\n\t 500-999       & 22\\\\\n\\end{tabular}\n",
            "text/markdown": "\nA data.frame: 4 x 2\n\n| x &lt;fct&gt; | freq &lt;int&gt; |\n|---|---|\n| 0-499         | 15 |\n| 1000-1900     |  7 |\n| 2000 und mehr |  4 |\n| 500-999       | 22 |\n\n",
            "text/html": "<table>\n<caption>A data.frame: 4 x 2</caption>\n<thead>\n\t<tr><th scope=col>x</th><th scope=col>freq</th></tr>\n\t<tr><th scope=col>&lt;fct&gt;</th><th scope=col>&lt;int&gt;</th></tr>\n</thead>\n<tbody>\n\t<tr><td>0-499        </td><td>15</td></tr>\n\t<tr><td>1000-1900    </td><td> 7</td></tr>\n\t<tr><td>2000 und mehr</td><td> 4</td></tr>\n\t<tr><td>500-999      </td><td>22</td></tr>\n</tbody>\n</table>\n"
          },
          "metadata": {}
        }
      ]
    },
    {
      "metadata": {
        "trusted": true
      },
      "cell_type": "code",
      "source": "#Anzahl Familienstand\ncount(rawData$Familienstand)",
      "execution_count": 12,
      "outputs": [
        {
          "output_type": "display_data",
          "data": {
            "text/plain": "  x                                 freq\n1 ledig                             46  \n2 verheiratet mit Ehepartner lebend  2  ",
            "text/latex": "A data.frame: 2 x 2\n\\begin{tabular}{r|ll}\n x & freq\\\\\n <fct> & <int>\\\\\n\\hline\n\t ledig                             & 46\\\\\n\t verheiratet mit Ehepartner lebend &  2\\\\\n\\end{tabular}\n",
            "text/markdown": "\nA data.frame: 2 x 2\n\n| x &lt;fct&gt; | freq &lt;int&gt; |\n|---|---|\n| ledig                             | 46 |\n| verheiratet mit Ehepartner lebend |  2 |\n\n",
            "text/html": "<table>\n<caption>A data.frame: 2 x 2</caption>\n<thead>\n\t<tr><th scope=col>x</th><th scope=col>freq</th></tr>\n\t<tr><th scope=col>&lt;fct&gt;</th><th scope=col>&lt;int&gt;</th></tr>\n</thead>\n<tbody>\n\t<tr><td>ledig                            </td><td>46</td></tr>\n\t<tr><td>verheiratet mit Ehepartner lebend</td><td> 2</td></tr>\n</tbody>\n</table>\n"
          },
          "metadata": {}
        }
      ]
    }
  ],
  "metadata": {
    "kernelspec": {
      "name": "r",
      "display_name": "R",
      "language": "R"
    },
    "language_info": {
      "mimetype": "text/x-r-source",
      "name": "R",
      "pygments_lexer": "r",
      "version": "3.5.3",
      "file_extension": ".r",
      "codemirror_mode": "r"
    }
  },
  "nbformat": 4,
  "nbformat_minor": 2
}